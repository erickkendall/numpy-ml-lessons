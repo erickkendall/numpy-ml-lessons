{
 "cells": [
  {
   "cell_type": "markdown",
   "id": "2ba0984b",
   "metadata": {},
   "source": [
    "# Lesson 16: Advanced Indexing — Fancy, Mixed, and Updates\n",
    "**Goal (~15 min):** Use integer lists/arrays for fancy indexing; mix boolean & integer; in-place updates."
   ]
  },
  {
   "cell_type": "markdown",
   "id": "88b91a08",
   "metadata": {},
   "source": [
    "## Setup"
   ]
  },
  {
   "cell_type": "code",
   "execution_count": null,
   "id": "39cbb784",
   "metadata": {},
   "outputs": [],
   "source": [
    "import numpy as np\n",
    "A = np.arange(24).reshape(6,4)\n",
    "print(\"A:\\n\", A)"
   ]
  },
  {
   "cell_type": "markdown",
   "id": "2e638c6f",
   "metadata": {},
   "source": [
    "## Fancy Row/Column Selection"
   ]
  },
  {
   "cell_type": "code",
   "execution_count": null,
   "id": "54e38153",
   "metadata": {},
   "outputs": [],
   "source": [
    "rows = [0, 2, 5]; cols = [1, 3]\n",
    "print(\"A[rows, :]:\\n\", A[rows, :])\n",
    "print(\"A[:, cols]:\\n\", A[:, cols])\n",
    "print(\"A[rows][:, cols]:\\n\", A[rows][:, cols])"
   ]
  },
  {
   "cell_type": "markdown",
   "id": "98b82e3c",
   "metadata": {},
   "source": [
    "## Fancy with Pairing (row i, col j)"
   ]
  },
  {
   "cell_type": "code",
   "execution_count": null,
   "id": "91e2a115",
   "metadata": {},
   "outputs": [],
   "source": [
    "ri = np.array([0,1,2,3]); cj = np.array([0,1,2,3])\n",
    "diag = A[ri, cj]   # picks (0,0),(1,1),(2,2),(3,3)\n",
    "print(\"diag:\", diag)"
   ]
  },
  {
   "cell_type": "markdown",
   "id": "d6cdd090",
   "metadata": {},
   "source": [
    "## Mixed Boolean + Integer"
   ]
  },
  {
   "cell_type": "code",
   "execution_count": null,
   "id": "974f6f8f",
   "metadata": {},
   "outputs": [],
   "source": [
    "mask = A[:,0] % 2 == 0  # even in first col\n",
    "print(\"mask:\", mask)\n",
    "print(\"rows even first col, pick col 2:\", A[mask, 2])"
   ]
  },
  {
   "cell_type": "markdown",
   "id": "c1b00d34",
   "metadata": {},
   "source": [
    "## In-place Updates via Fancy Indexing"
   ]
  },
  {
   "cell_type": "code",
   "execution_count": null,
   "id": "33bc8652",
   "metadata": {},
   "outputs": [],
   "source": [
    "B = A.copy()\n",
    "idx = np.array([1,3,4])\n",
    "B[idx, 2] += 100  # add 100 to col 2 for selected rows\n",
    "print(\"updated B col2 on rows [1,3,4]:\\n\", B)"
   ]
  },
  {
   "cell_type": "markdown",
   "id": "5a9fb842",
   "metadata": {},
   "source": [
    "## Exercise\n",
    "1) Select rows [0,3,5] and columns [0,2]; return that submatrix.\n",
    "2) Set A rows [2,4] column 1 to -1.\n",
    "3) Extract elements (0,3),(2,0),(5,1) in one call."
   ]
  }
 ],
 "metadata": {},
 "nbformat": 4,
 "nbformat_minor": 5
}
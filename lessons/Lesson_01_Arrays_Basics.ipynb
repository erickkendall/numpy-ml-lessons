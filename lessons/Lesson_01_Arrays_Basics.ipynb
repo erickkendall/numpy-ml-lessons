{
 "cells": [
  {
   "cell_type": "markdown",
   "id": "186e339f",
   "metadata": {},
   "source": [
    "# Lesson 1: Arrays & Basic Operations\n",
    "**Goal (~15 min):** Create arrays, inspect shapes, and run basic math used in ML."
   ]
  },
  {
   "cell_type": "markdown",
   "id": "61a69b61",
   "metadata": {},
   "source": [
    "## Setup"
   ]
  },
  {
   "cell_type": "code",
   "execution_count": null,
   "id": "ec278a82",
   "metadata": {},
   "outputs": [],
   "source": [
    "import numpy as np"
   ]
  },
  {
   "cell_type": "markdown",
   "id": "c70f3cf5",
   "metadata": {},
   "source": [
    "## Creating Arrays"
   ]
  },
  {
   "cell_type": "code",
   "execution_count": null,
   "id": "da6602d8",
   "metadata": {},
   "outputs": [],
   "source": [
    "x = np.array([1,2,3,4,5]); print(\"1D:\", x)\n",
    "X = np.array([[1,2,3],[4,5,6]]); print(\"\\n2D:\\n\", X)\n",
    "zeros = np.zeros((2,3)); ones = np.ones((3,2))\n",
    "I = np.eye(3)\n",
    "print(\"\\nzeros:\\n\", zeros); print(\"\\nones:\\n\", ones); print(\"\\nI:\\n\", I)"
   ]
  },
  {
   "cell_type": "markdown",
   "id": "bbc269a5",
   "metadata": {},
   "source": [
    "## Shapes & Attributes"
   ]
  },
  {
   "cell_type": "code",
   "execution_count": null,
   "id": "2d124ae7",
   "metadata": {},
   "outputs": [],
   "source": [
    "print(\"shape:\", X.shape); print(\"ndim:\", X.ndim); print(\"size:\", X.size); print(\"dtype:\", X.dtype)"
   ]
  },
  {
   "cell_type": "markdown",
   "id": "a70803b2",
   "metadata": {},
   "source": [
    "## Elementwise Math & Dot Product"
   ]
  },
  {
   "cell_type": "code",
   "execution_count": null,
   "id": "818b2ecb",
   "metadata": {},
   "outputs": [],
   "source": [
    "a = np.array([10,20,30]); b = np.array([1,2,3])\n",
    "print(\"add:\", a+b); print(\"mul:\", a*b); print(\"div:\", a/b)\n",
    "print(\"dot:\", np.dot(a,b))"
   ]
  },
  {
   "cell_type": "markdown",
   "id": "0860172c",
   "metadata": {},
   "source": [
    "## Exercise\n",
    "1) Build a (4×3) array with 1..12.\n",
    "2) Column sums (axis=0).\n",
    "3) Row means (axis=1)."
   ]
  },
  {
   "cell_type": "code",
   "execution_count": null,
   "id": "48dc5120",
   "metadata": {},
   "outputs": [],
   "source": [
    "arr = np.arange(1,13).reshape(4,3)\n",
    "print(arr)\n",
    "print(\"col sums:\", arr.sum(axis=0))\n",
    "print(\"row means:\", arr.mean(axis=1))"
   ]
  }
 ],
 "metadata": {},
 "nbformat": 4,
 "nbformat_minor": 5
}
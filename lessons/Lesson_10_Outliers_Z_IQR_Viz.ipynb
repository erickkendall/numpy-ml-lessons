{
 "cells": [
  {
   "cell_type": "markdown",
   "id": "32693212",
   "metadata": {},
   "source": [
    "# Lesson 10: Outlier Detection (Z-score & IQR) + Viz\n",
    "**Goal (~15 min):** Detect outliers using two methods and visualize."
   ]
  },
  {
   "cell_type": "markdown",
   "id": "fd6047de",
   "metadata": {},
   "source": [
    "## Income Dataset with Outliers"
   ]
  },
  {
   "cell_type": "code",
   "execution_count": null,
   "id": "586d3e17",
   "metadata": {},
   "outputs": [],
   "source": [
    "import numpy as np\n",
    "np.random.seed(42)\n",
    "income_k = np.random.normal(80,15,size=100).astype(int)\n",
    "income_k[[5,20,75]] = [200,250,300]\n",
    "print(income_k[:15])"
   ]
  },
  {
   "cell_type": "markdown",
   "id": "5956f6d2",
   "metadata": {},
   "source": [
    "## Z-score Method"
   ]
  },
  {
   "cell_type": "code",
   "execution_count": null,
   "id": "94bce98e",
   "metadata": {},
   "outputs": [],
   "source": [
    "mean = income_k.mean(); std = income_k.std()\n",
    "z = (income_k - mean)/std\n",
    "z_mask = np.abs(z) > 2\n",
    "print(\"mean/std:\", round(mean,2), round(std,2))\n",
    "print(\"z outliers:\", income_k[z_mask])"
   ]
  },
  {
   "cell_type": "markdown",
   "id": "2f64ff8c",
   "metadata": {},
   "source": [
    "## IQR Method"
   ]
  },
  {
   "cell_type": "code",
   "execution_count": null,
   "id": "4bb8c97a",
   "metadata": {},
   "outputs": [],
   "source": [
    "q25, q75 = np.percentile(income_k, [25,75]); iqr = q75 - q25\n",
    "lb, ub = q25 - 1.5*iqr, q75 + 1.5*iqr\n",
    "iqr_mask = (income_k<lb)|(income_k>ub)\n",
    "print(\"IQR bounds:\", lb, ub)\n",
    "print(\"IQR outliers:\", income_k[iqr_mask])"
   ]
  },
  {
   "cell_type": "markdown",
   "id": "1aeedf3b",
   "metadata": {},
   "source": [
    "## Visualization"
   ]
  },
  {
   "cell_type": "code",
   "execution_count": null,
   "id": "45bcf40b",
   "metadata": {},
   "outputs": [],
   "source": [
    "import matplotlib.pyplot as plt\n",
    "plt.figure()\n",
    "plt.hist(income_k, bins=20)\n",
    "plt.scatter(income_k[z_mask], [0]*z_mask.sum(), marker=\"x\", s=120)\n",
    "plt.scatter(income_k[iqr_mask], [0.5]*iqr_mask.sum(), facecolors=\"none\", s=120)\n",
    "plt.title(\"Outliers: Z-score (x) vs IQR (circles)\")\n",
    "plt.xlabel(\"Income (k)\"); plt.ylabel(\"Frequency\")\n",
    "plt.show()"
   ]
  },
  {
   "cell_type": "markdown",
   "id": "c2c23421",
   "metadata": {},
   "source": [
    "## Exercise\n",
    "Create a score array with two extreme outliers; detect via both methods; compare results."
   ]
  }
 ],
 "metadata": {},
 "nbformat": 4,
 "nbformat_minor": 5
}
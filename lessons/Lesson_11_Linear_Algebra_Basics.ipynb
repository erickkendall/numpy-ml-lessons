{
 "cells": [
  {
   "cell_type": "markdown",
   "id": "90f175e6",
   "metadata": {},
   "source": [
    "# Lesson 11: Linear Algebra Basics\n",
    "**Goal (~15 min):** Matrix multiplication, transpose, identity, solving Ax=b."
   ]
  },
  {
   "cell_type": "markdown",
   "id": "9e05c4b1",
   "metadata": {},
   "source": [
    "## Matrices & Shapes"
   ]
  },
  {
   "cell_type": "code",
   "execution_count": null,
   "id": "4a89500e",
   "metadata": {},
   "outputs": [],
   "source": [
    "import numpy as np\n",
    "A = np.array([[1,2,3],[4,5,6]])\n",
    "B = np.array([[7,8],[9,10],[11,12]])\n",
    "print(\"A:\\n\", A, \"\\nshape:\", A.shape)\n",
    "print(\"\\nB:\\n\", B, \"\\nshape:\", B.shape)"
   ]
  },
  {
   "cell_type": "markdown",
   "id": "74b7f7c9",
   "metadata": {},
   "source": [
    "## Matrix Multiplication & Dot"
   ]
  },
  {
   "cell_type": "code",
   "execution_count": null,
   "id": "40078e74",
   "metadata": {},
   "outputs": [],
   "source": [
    "C = A @ B; print(\"A@B:\\n\", C)\n",
    "x = np.array([1,2,3]); y = np.array([4,5,6])\n",
    "print(\"dot(x,y):\", np.dot(x,y))"
   ]
  },
  {
   "cell_type": "markdown",
   "id": "5d1afc54",
   "metadata": {},
   "source": [
    "## Transpose & Identity"
   ]
  },
  {
   "cell_type": "code",
   "execution_count": null,
   "id": "a1c86d6d",
   "metadata": {},
   "outputs": [],
   "source": [
    "print(\"A.T:\\n\", A.T)\n",
    "M = np.array([[2,3],[5,7]])\n",
    "print(\"M@I == M:\\n\", M @ np.eye(2))"
   ]
  },
  {
   "cell_type": "markdown",
   "id": "5ac32a6c",
   "metadata": {},
   "source": [
    "## Solve Ax=b"
   ]
  },
  {
   "cell_type": "code",
   "execution_count": null,
   "id": "2e9379d9",
   "metadata": {},
   "outputs": [],
   "source": [
    "A = np.array([[3,1],[1,2]], dtype=float)\n",
    "b = np.array([9,8], dtype=float)\n",
    "x = np.linalg.solve(A,b); print(\"x:\", x); print(\"A@x:\", A@x)"
   ]
  },
  {
   "cell_type": "markdown",
   "id": "666e7c13",
   "metadata": {},
   "source": [
    "## Exercise\n",
    "1) Random 3x3 M (1..9); compute M@M.T\n",
    "2) v=[2,1,-1]; compute M@v\n",
    "3) Solve 2x+y=5; x−y=1"
   ]
  }
 ],
 "metadata": {},
 "nbformat": 4,
 "nbformat_minor": 5
}
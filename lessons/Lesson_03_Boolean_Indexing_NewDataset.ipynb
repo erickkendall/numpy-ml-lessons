{
 "cells": [
  {
   "cell_type": "markdown",
   "id": "e515748d",
   "metadata": {},
   "source": [
    "# Lesson 3: Boolean Indexing & Masking (New Dataset)\n",
    "**Goal (~15 min):** Filter, combine conditions, and modify with masks."
   ]
  },
  {
   "cell_type": "markdown",
   "id": "a4deb5cf",
   "metadata": {},
   "source": [
    "## Setup & Headers (kept separate)"
   ]
  },
  {
   "cell_type": "code",
   "execution_count": null,
   "id": "52a1e024",
   "metadata": {},
   "outputs": [],
   "source": [
    "import numpy as np\n",
    "header = [\"age\",\"income_k\",\"score\",\"years_experience\",\"credit_rating\"]\n",
    "data = np.array([\n",
    "    [25, 50, 72,  2, 600],\n",
    "    [32, 80, 88,  6, 720],\n",
    "    [41,120, 55, 15, 680],\n",
    "    [29, 60, 45,  4, 590],\n",
    "    [36, 90, 95,  8, 750],\n",
    "    [50,150, 62, 20, 710]\n",
    "], dtype=float)\n",
    "print(\"Headers:\", header); print(\"\\nData:\\n\", data)"
   ]
  },
  {
   "cell_type": "markdown",
   "id": "e9fa1f73",
   "metadata": {},
   "source": [
    "## Single & Combined Conditions"
   ]
  },
  {
   "cell_type": "code",
   "execution_count": null,
   "id": "7d6af229",
   "metadata": {},
   "outputs": [],
   "source": [
    "mask_age = data[:,0] > 35\n",
    "print(\"age>35:\\n\", data[mask_age])\n",
    "mask_income_credit = (data[:,1] >= 80) & (data[:,4] >= 700)\n",
    "print(\"\\nincome>=80 & credit>=700:\\n\", data[mask_income_credit])"
   ]
  },
  {
   "cell_type": "markdown",
   "id": "f85ed79e",
   "metadata": {},
   "source": [
    "## Modify with Masks"
   ]
  },
  {
   "cell_type": "code",
   "execution_count": null,
   "id": "7be7ae4d",
   "metadata": {},
   "outputs": [],
   "source": [
    "data_mod = data.copy()\n",
    "data_mod[data_mod[:,3] > 10, 2] += 5  # score += 5 if years_exp>10\n",
    "print(\"modified (score boosts where years_exp>10):\\n\", data_mod)"
   ]
  },
  {
   "cell_type": "markdown",
   "id": "cb1e5ca1",
   "metadata": {},
   "source": [
    "## Exercise\n",
    "1) credit<650 rows\n",
    "2) income in [60,100]\n",
    "3) score=0 for age<30 (on a copy)\n",
    "4) Count score > mean(score)"
   ]
  }
 ],
 "metadata": {},
 "nbformat": 4,
 "nbformat_minor": 5
}
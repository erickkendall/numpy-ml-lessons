{
 "cells": [
  {
   "cell_type": "markdown",
   "id": "b4a81e2c",
   "metadata": {},
   "source": [
    "# Lesson 14: Random Numbers & Reproducibility\n",
    "**Goal (~15 min):** Use NumPy's random generators to sample, shuffle, and split reproducibly."
   ]
  },
  {
   "cell_type": "markdown",
   "id": "5fdba62e",
   "metadata": {},
   "source": [
    "## Setup — Generator API"
   ]
  },
  {
   "cell_type": "code",
   "execution_count": null,
   "id": "62f362a7",
   "metadata": {},
   "outputs": [],
   "source": [
    "import numpy as np\n",
    "# Recommended modern API\n",
    "rng = np.random.default_rng(seed=42)  # reproducible\n",
    "print(\"rand 3 floats:\", rng.random(3))\n",
    "print(\"randint 0..9:\", rng.integers(0,10, size=5))\n",
    "print(\"normal(0,1):\", rng.normal(size=3))"
   ]
  },
  {
   "cell_type": "markdown",
   "id": "f61477c8",
   "metadata": {},
   "source": [
    "## Shuffling & Permutations"
   ]
  },
  {
   "cell_type": "code",
   "execution_count": null,
   "id": "10d7aaf0",
   "metadata": {},
   "outputs": [],
   "source": [
    "arr = np.arange(10)\n",
    "perm = rng.permutation(arr)\n",
    "print(\"perm:\", perm)\n",
    "rng.shuffle(arr)  # in-place\n",
    "print(\"shuffled arr:\", arr)"
   ]
  },
  {
   "cell_type": "markdown",
   "id": "c7024f2a",
   "metadata": {},
   "source": [
    "## Train/Test Split (indices)"
   ]
  },
  {
   "cell_type": "code",
   "execution_count": null,
   "id": "71b994c7",
   "metadata": {},
   "outputs": [],
   "source": [
    "N = 12\n",
    "idx = rng.permutation(N)\n",
    "train_idx, test_idx = idx[:8], idx[8:]\n",
    "print(\"train_idx:\", train_idx, \"\\ntest_idx:\", test_idx)"
   ]
  },
  {
   "cell_type": "markdown",
   "id": "fd9b4f2b",
   "metadata": {},
   "source": [
    "## Stratified-like Split (approximate)"
   ]
  },
  {
   "cell_type": "code",
   "execution_count": null,
   "id": "e6f03861",
   "metadata": {},
   "outputs": [],
   "source": [
    "# Given binary labels, keep roughly same proportion in train/test\n",
    "labels = rng.integers(0,2,size=N)  # 0/1 labels\n",
    "idx0 = np.where(labels==0)[0]; idx1 = np.where(labels==1)[0]\n",
    "tr0, te0 = idx0[:len(idx0)*8//10], idx0[len(idx0)*8//10:]\n",
    "tr1, te1 = idx1[:len(idx1)*8//10], idx1[len(idx1)*8//10:]\n",
    "train_idx2 = np.concatenate([tr0, tr1]); test_idx2 = np.concatenate([te0, te1])\n",
    "print(\"labels:\", labels)\n",
    "print(\"train_idx2:\", np.sort(train_idx2))\n",
    "print(\"test_idx2:\", np.sort(test_idx2))"
   ]
  },
  {
   "cell_type": "markdown",
   "id": "221b34d8",
   "metadata": {},
   "source": [
    "## Exercise\n",
    "1) Create rng with seed=7 and draw: 5 normals, 5 uniform(0,1), 5 ints 10..20.\n",
    "2) Write split_indices(N, train_frac, seed) that returns (train_idx, test_idx).\n",
    "3) Bonus: Given k classes in labels, write stratified_indices(labels, train_frac)."
   ]
  }
 ],
 "metadata": {},
 "nbformat": 4,
 "nbformat_minor": 5
}
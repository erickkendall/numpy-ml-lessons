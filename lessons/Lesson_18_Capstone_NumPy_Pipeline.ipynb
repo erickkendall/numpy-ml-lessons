{
 "cells": [
  {
   "cell_type": "markdown",
   "id": "e01eac72",
   "metadata": {},
   "source": [
    "# Lesson 18: Capstone — NumPy-Only Mini ML Pipeline\n",
    "**Goal (~15–20 min):** Build a tiny end-to-end regression pipeline using only NumPy.\n",
    "- Load synthetic data\n",
    "- Split train/test\n",
    "- Scale (fit on train, apply to test)\n",
    "- Feature engineer\n",
    "- Fit linear regression (normal equation)\n",
    "- Evaluate RMSE"
   ]
  },
  {
   "cell_type": "markdown",
   "id": "4a9d8b9e",
   "metadata": {},
   "source": [
    "## 1) Data Generation"
   ]
  },
  {
   "cell_type": "code",
   "execution_count": null,
   "id": "c21aade7",
   "metadata": {},
   "outputs": [],
   "source": [
    "import numpy as np\n",
    "rng = np.random.default_rng(123)\n",
    "N = 200\n",
    "age = rng.integers(22, 61, size=N)\n",
    "income_k = rng.integers(40, 181, size=N)\n",
    "score = rng.integers(40, 101, size=N)\n",
    "years_exp = np.clip((age-22)//3 + rng.integers(-1,3,size=N), 0, None)\n",
    "# true target (credit-like), with noise\n",
    "y = np.clip(500 + income_k*2 + (score-70)*4 + years_exp*3 + rng.integers(-60,61,size=N), 300, 850).astype(float)\n",
    "X = np.column_stack([age, income_k, score, years_exp]).astype(float)\n",
    "header = [\"age\",\"income_k\",\"score\",\"years_experience\"]"
   ]
  },
  {
   "cell_type": "markdown",
   "id": "bf32d986",
   "metadata": {},
   "source": [
    "## 2) Train/Test Split"
   ]
  },
  {
   "cell_type": "code",
   "execution_count": null,
   "id": "aa4b6f72",
   "metadata": {},
   "outputs": [],
   "source": [
    "idx = rng.permutation(N)\n",
    "tr = idx[:160]; te = idx[160:]\n",
    "X_tr, X_te = X[tr], X[te]; y_tr, y_te = y[tr], y[te]\n",
    "print(\"train:\", X_tr.shape, \" test:\", X_te.shape)"
   ]
  },
  {
   "cell_type": "markdown",
   "id": "8ca9ded6",
   "metadata": {},
   "source": [
    "## 3) Fit/Transform Scaling (Standardization)"
   ]
  },
  {
   "cell_type": "code",
   "execution_count": null,
   "id": "f132f5f6",
   "metadata": {},
   "outputs": [],
   "source": [
    "def fit_standardizer(X):\n",
    "    m = X.mean(axis=0); s = X.std(axis=0); s[s==0] = 1.0\n",
    "    return {\"mean\": m, \"std\": s}\n",
    "def transform_standardizer(X, st):\n",
    "    return (X - st[\"mean\"]) / st[\"std\"]\n",
    "st = fit_standardizer(X_tr)\n",
    "X_tr_std = transform_standardizer(X_tr, st)\n",
    "X_te_std = transform_standardizer(X_te, st)"
   ]
  },
  {
   "cell_type": "markdown",
   "id": "4c4649b7",
   "metadata": {},
   "source": [
    "## 4) Feature Engineering"
   ]
  },
  {
   "cell_type": "code",
   "execution_count": null,
   "id": "7f054a41",
   "metadata": {},
   "outputs": [],
   "source": [
    "age_flag = (X_tr[:,0] > 35).astype(float).reshape(-1,1)\n",
    "age_flag_te = (X_te[:,0] > 35).astype(float).reshape(-1,1)\n",
    "# also add min-max normalized score (fit on train for stability)\n",
    "sc = X_tr[:,2]; sc_min = sc.min(); sc_rng = np.ptp(sc) if np.ptp(sc)!=0 else 1.0\n",
    "score_mm_tr = ((X_tr[:,2]-sc_min)/sc_rng).reshape(-1,1)\n",
    "score_mm_te = ((X_te[:,2]-sc_min)/sc_rng).reshape(-1,1)\n",
    "# build design matrices (standardized + engineered)\n",
    "Xb_tr = np.hstack([np.ones((X_tr.shape[0],1)), X_tr_std, age_flag, score_mm_tr])\n",
    "Xb_te = np.hstack([np.ones((X_te.shape[0],1)), X_te_std, age_flag_te, score_mm_te])\n",
    "print(\"Xb_tr shape:\", Xb_tr.shape)"
   ]
  },
  {
   "cell_type": "markdown",
   "id": "0a494480",
   "metadata": {},
   "source": [
    "## 5) Linear Regression via Normal Equation"
   ]
  },
  {
   "cell_type": "code",
   "execution_count": null,
   "id": "aadc6a59",
   "metadata": {},
   "outputs": [],
   "source": [
    "# theta = (X^T X)^(-1) X^T y\n",
    "XtX = Xb_tr.T @ Xb_tr\n",
    "Xty = Xb_tr.T @ y_tr\n",
    "theta = np.linalg.solve(XtX, Xty)\n",
    "print(\"theta shape:\", theta.shape)"
   ]
  },
  {
   "cell_type": "markdown",
   "id": "1fc972b8",
   "metadata": {},
   "source": [
    "## 6) Evaluate RMSE on Test"
   ]
  },
  {
   "cell_type": "code",
   "execution_count": null,
   "id": "94d318b4",
   "metadata": {},
   "outputs": [],
   "source": [
    "y_pred = Xb_te @ theta\n",
    "rmse = np.sqrt(np.mean((y_te - y_pred)**2))\n",
    "print(\"Test RMSE:\", round(rmse, 3))\n",
    "print(\"Pred sample:\", y_pred[:5].round(2))"
   ]
  },
  {
   "cell_type": "markdown",
   "id": "4caa50dc",
   "metadata": {},
   "source": [
    "## Exercise\n",
    "1) Try replacing standardization with min–max scaling (fit on train).\n",
    "2) Add an interaction feature: income_k * score (scaled) and refit.\n",
    "3) Report new RMSE and compare."
   ]
  }
 ],
 "metadata": {},
 "nbformat": 4,
 "nbformat_minor": 5
}
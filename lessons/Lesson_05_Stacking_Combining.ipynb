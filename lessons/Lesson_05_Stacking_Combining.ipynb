{
 "cells": [
  {
   "cell_type": "markdown",
   "id": "c87c8836",
   "metadata": {},
   "source": [
    "# Lesson 5: Stacking & Combining Arrays\n",
    "**Goal (~15 min):** hstack/vstack; build features, add new derived columns."
   ]
  },
  {
   "cell_type": "markdown",
   "id": "ee135136",
   "metadata": {},
   "source": [
    "## Load sample & split X/y"
   ]
  },
  {
   "cell_type": "code",
   "execution_count": null,
   "id": "7703f615",
   "metadata": {},
   "outputs": [],
   "source": [
    "import numpy as np\n",
    "with open(\"sample_data.csv\",\"r\") as f: header = f.readline().strip().split(\",\")\n",
    "data = np.loadtxt(\"sample_data.csv\", delimiter=\",\", skiprows=1)\n",
    "X = data[:, :4]; y = data[:, 4]\n",
    "print(\"X:\\n\", X); print(\"\\ny:\\n\", y)"
   ]
  },
  {
   "cell_type": "markdown",
   "id": "da50a737",
   "metadata": {},
   "source": [
    "## Add Derived Feature (age>35 → 1 else 0)"
   ]
  },
  {
   "cell_type": "code",
   "execution_count": null,
   "id": "0b2f17bb",
   "metadata": {},
   "outputs": [],
   "source": [
    "age_flag = (X[:,0] > 35).astype(int).reshape(-1,1)\n",
    "X2 = np.hstack([X, age_flag])\n",
    "print(\"X with flag:\\n\", X2)"
   ]
  },
  {
   "cell_type": "markdown",
   "id": "b36c9e74",
   "metadata": {},
   "source": [
    "## Add New Samples (vstack)"
   ]
  },
  {
   "cell_type": "code",
   "execution_count": null,
   "id": "f9f7a883",
   "metadata": {},
   "outputs": [],
   "source": [
    "new_samples = np.array([[28, 70, 81, 3, 640],\n",
    "                        [45,110, 68,12, 695]], dtype=float)\n",
    "full = np.vstack([data, new_samples])\n",
    "print(\"full shape:\", full.shape)"
   ]
  },
  {
   "cell_type": "markdown",
   "id": "1557c0f6",
   "metadata": {},
   "source": [
    "## Exercise\n",
    "1) Normalize score 0–1 and append\n",
    "2) vstack [40,100,78,10,705]\n",
    "3) Print final shapes"
   ]
  }
 ],
 "metadata": {},
 "nbformat": 4,
 "nbformat_minor": 5
}
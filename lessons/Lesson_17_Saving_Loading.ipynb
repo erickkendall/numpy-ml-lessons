{
 "cells": [
  {
   "cell_type": "markdown",
   "id": "371997cf",
   "metadata": {},
   "source": [
    "# Lesson 17: Saving & Loading Data\n",
    "**Goal (~15 min):** Use NumPy binary formats for speed/size, and text formats for portability."
   ]
  },
  {
   "cell_type": "markdown",
   "id": "af3e0eb9",
   "metadata": {},
   "source": [
    "## Create Example Arrays"
   ]
  },
  {
   "cell_type": "code",
   "execution_count": null,
   "id": "b267d8d5",
   "metadata": {},
   "outputs": [],
   "source": [
    "import numpy as np\n",
    "X = np.random.rand(5,4)\n",
    "y = np.random.randint(0,2,size=5)\n",
    "print(\"X:\\n\", X); print(\"y:\", y)"
   ]
  },
  {
   "cell_type": "markdown",
   "id": "cd3c08d4",
   "metadata": {},
   "source": [
    "## Save/Load NPY (single array)"
   ]
  },
  {
   "cell_type": "code",
   "execution_count": null,
   "id": "bd9fdd5c",
   "metadata": {},
   "outputs": [],
   "source": [
    "np.save(\"X.npy\", X)\n",
    "X2 = np.load(\"X.npy\")\n",
    "print(\"loaded equal:\", np.allclose(X, X2))"
   ]
  },
  {
   "cell_type": "markdown",
   "id": "ff32aac7",
   "metadata": {},
   "source": [
    "## Save/Load NPZ (multiple arrays, compressed)"
   ]
  },
  {
   "cell_type": "code",
   "execution_count": null,
   "id": "90738a74",
   "metadata": {},
   "outputs": [],
   "source": [
    "np.savez_compressed(\"dataset.npz\", X=X, y=y)\n",
    "d = np.load(\"dataset.npz\")\n",
    "print(\"keys:\", list(d.keys()))\n",
    "print(\"X==:\", np.allclose(X, d[\"X\"]), \" y==:\", np.array_equal(y, d[\"y\"]))"
   ]
  },
  {
   "cell_type": "markdown",
   "id": "5130a131",
   "metadata": {},
   "source": [
    "## CSV/Text Interop (human-readable)"
   ]
  },
  {
   "cell_type": "code",
   "execution_count": null,
   "id": "cd14f91a",
   "metadata": {},
   "outputs": [],
   "source": [
    "np.savetxt(\"X.csv\", X, delimiter=\",\", fmt=\"%.6f\")\n",
    "X_txt = np.loadtxt(\"X.csv\", delimiter=\",\")\n",
    "print(\"csv equal (approx):\", np.allclose(X, X_txt))"
   ]
  },
  {
   "cell_type": "markdown",
   "id": "4ae451aa",
   "metadata": {},
   "source": [
    "## Exercise\n",
    "1) Save three arrays (A,B,C) into one NPZ and reload.\n",
    "2) Write and read a small int array with savetxt/loadtxt using fmt='%d'.\n",
    "3) Bonus: time np.save/.npy vs np.savetxt for a (1000×1000) array."
   ]
  }
 ],
 "metadata": {},
 "nbformat": 4,
 "nbformat_minor": 5
}
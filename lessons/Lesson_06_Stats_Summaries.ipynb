{
 "cells": [
  {
   "cell_type": "markdown",
   "id": "32c93ec6",
   "metadata": {},
   "source": [
    "# Lesson 6: Statistical Summaries\n",
    "**Goal (~15 min):** Column-wise mean/std/min/max/percentiles and simple outlier flags."
   ]
  },
  {
   "cell_type": "markdown",
   "id": "2909e93a",
   "metadata": {},
   "source": [
    "## Load Data"
   ]
  },
  {
   "cell_type": "code",
   "execution_count": null,
   "id": "f98e6ba1",
   "metadata": {},
   "outputs": [],
   "source": [
    "import numpy as np\n",
    "with open(\"sample_data.csv\",\"r\") as f: header = f.readline().strip().split(\",\")\n",
    "data = np.loadtxt(\"sample_data.csv\", delimiter=\",\", skiprows=1)\n",
    "print(\"Headers:\", header); print(\"Shape:\", data.shape)"
   ]
  },
  {
   "cell_type": "markdown",
   "id": "d7ffc325",
   "metadata": {},
   "source": [
    "## Column Stats"
   ]
  },
  {
   "cell_type": "code",
   "execution_count": null,
   "id": "7bd29c94",
   "metadata": {},
   "outputs": [],
   "source": [
    "means = data.mean(axis=0); stds = data.std(axis=0)\n",
    "mins = data.min(axis=0); maxs = data.max(axis=0)\n",
    "p25 = np.percentile(data, 25, axis=0); p75 = np.percentile(data, 75, axis=0)\n",
    "print(\"means:\", means); print(\"stds:\", stds)\n",
    "print(\"mins:\", mins); print(\"maxs:\", maxs)\n",
    "print(\"p25:\", p25); print(\"p75:\", p75)"
   ]
  },
  {
   "cell_type": "markdown",
   "id": "88ddb8c2",
   "metadata": {},
   "source": [
    "## Z-score Example on credit_rating"
   ]
  },
  {
   "cell_type": "code",
   "execution_count": null,
   "id": "5f6f5911",
   "metadata": {},
   "outputs": [],
   "source": [
    "credit = data[:,-1]; z = (credit - credit.mean())/credit.std()\n",
    "print(\"z-scores:\", np.round(z, 2))\n",
    "print(\"outliers (|z|>2):\\n\", data[np.abs(z)>2])"
   ]
  },
  {
   "cell_type": "markdown",
   "id": "71dd8d76",
   "metadata": {},
   "source": [
    "## Exercise\n",
    "1) score mean/std; z-normalize score\n",
    "2) 25th & 75th of income_k\n",
    "3) Rows with income_k > 75th"
   ]
  }
 ],
 "metadata": {},
 "nbformat": 4,
 "nbformat_minor": 5
}
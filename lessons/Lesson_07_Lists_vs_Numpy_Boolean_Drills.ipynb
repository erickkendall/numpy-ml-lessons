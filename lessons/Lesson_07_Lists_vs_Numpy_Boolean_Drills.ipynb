{
 "cells": [
  {
   "cell_type": "markdown",
   "id": "e37e4ab1",
   "metadata": {},
   "source": [
    "# Lesson 7: NumPy vs Python Lists + Mask Drills\n",
    "**Goal (~15 min):** See vectorization benefits; practice Boolean indexing."
   ]
  },
  {
   "cell_type": "markdown",
   "id": "3a33b670",
   "metadata": {},
   "source": [
    "## Lists vs Arrays"
   ]
  },
  {
   "cell_type": "code",
   "execution_count": null,
   "id": "ad3933cf",
   "metadata": {},
   "outputs": [],
   "source": [
    "import numpy as np\n",
    "py_list = [1,2,3,4,5]\n",
    "np_array = np.array([1,2,3,4,5])\n",
    "try:\n",
    "    py_list + 10\n",
    "except Exception as e:\n",
    "    print(\"List + 10 error:\", e)\n",
    "print(\"Array + 10:\", np_array + 10)\n",
    "try:\n",
    "    py_list > 3\n",
    "except Exception as e:\n",
    "    print(\"List > 3 error:\", e)\n",
    "print(\"Array > 3:\", np_array > 3)"
   ]
  },
  {
   "cell_type": "markdown",
   "id": "542936e1",
   "metadata": {},
   "source": [
    "## Mini Dataset & Drills"
   ]
  },
  {
   "cell_type": "code",
   "execution_count": null,
   "id": "19f32b6b",
   "metadata": {},
   "outputs": [],
   "source": [
    "data = np.array([[25, 50, 72, 2],\n",
    "                 [32, 80, 88, 6],\n",
    "                 [41,120, 55,15],\n",
    "                 [29, 60, 45, 4],\n",
    "                 [36, 90, 95, 8],\n",
    "                 [50,150, 62,20]], dtype=float)\n",
    "print(\"age>35:\\n\", data[data[:,0]>35])\n",
    "print(\"income<100:\\n\", data[data[:,1]<100])\n",
    "mask = (data[:,2]>=60)&(data[:,2]<=90); print(\"score in [60,90]:\\n\", data[mask])"
   ]
  },
  {
   "cell_type": "markdown",
   "id": "b74cd6ed",
   "metadata": {},
   "source": [
    "## Exercise\n",
    "1) age ≤ 30\n",
    "2) income ≥ 80 & score > 80\n",
    "3) score=0 where income<70 (copy)\n",
    "4) Count years_exp > mean(years_exp)"
   ]
  }
 ],
 "metadata": {},
 "nbformat": 4,
 "nbformat_minor": 5
}
{
 "cells": [
  {
   "cell_type": "markdown",
   "id": "738f3e4f",
   "metadata": {},
   "source": [
    "# Lesson 4: CSV with Headers & Random Sampling\n",
    "**Goal (~15 min):** Read CSV, keep headers, skip header for NumPy, and sample rows."
   ]
  },
  {
   "cell_type": "markdown",
   "id": "62f2d2f9",
   "metadata": {},
   "source": [
    "## Create a Sample CSV"
   ]
  },
  {
   "cell_type": "code",
   "execution_count": null,
   "id": "0c73ce58",
   "metadata": {},
   "outputs": [],
   "source": [
    "import numpy as np\n",
    "csv = \"\"\"age,income_k,score,years_experience,credit_rating\n",
    "25,50,72,2,600\n",
    "32,80,88,6,720\n",
    "41,120,55,15,680\n",
    "29,60,45,4,590\n",
    "36,90,95,8,750\n",
    "50,150,62,20,710\n",
    "\"\"\"\n",
    "with open(\"sample_data.csv\",\"w\") as f: f.write(csv)\n",
    "print(\"Wrote sample_data.csv\")"
   ]
  },
  {
   "cell_type": "markdown",
   "id": "54b958d4",
   "metadata": {},
   "source": [
    "## Read Header Separately, Load Numeric Data"
   ]
  },
  {
   "cell_type": "code",
   "execution_count": null,
   "id": "13aa5fa6",
   "metadata": {},
   "outputs": [],
   "source": [
    "with open(\"sample_data.csv\",\"r\") as f:\n",
    "    header = f.readline().strip().split(\",\")\n",
    "data = np.loadtxt(\"sample_data.csv\", delimiter=\",\", skiprows=1)\n",
    "print(\"Headers:\", header); print(\"\\nData:\\n\", data)"
   ]
  },
  {
   "cell_type": "markdown",
   "id": "ef6ea92a",
   "metadata": {},
   "source": [
    "## Random Sampling & Train/Test Split"
   ]
  },
  {
   "cell_type": "code",
   "execution_count": null,
   "id": "8ff65cb7",
   "metadata": {},
   "outputs": [],
   "source": [
    "np.random.seed(42)\n",
    "n = data.shape[0]; train_n = 4\n",
    "train_idx = np.random.choice(n, size=train_n, replace=False)\n",
    "test_idx  = np.setdiff1d(np.arange(n), train_idx)\n",
    "train, test = data[train_idx], data[test_idx]\n",
    "print(\"train idx:\", train_idx); print(\"test idx:\", test_idx)\n",
    "print(\"\\nTrain:\\n\", train); print(\"\\nTest:\\n\", test)"
   ]
  },
  {
   "cell_type": "markdown",
   "id": "2e21f33d",
   "metadata": {},
   "source": [
    "## Exercise\n",
    "1) Load all but last col with `usecols`\n",
    "2) Make 4-row train set (no duplicates)\n",
    "3) Print which headers you kept"
   ]
  }
 ],
 "metadata": {},
 "nbformat": 4,
 "nbformat_minor": 5
}
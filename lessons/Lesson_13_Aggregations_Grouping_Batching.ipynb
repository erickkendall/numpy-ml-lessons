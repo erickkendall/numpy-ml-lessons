{
 "cells": [
  {
   "cell_type": "markdown",
   "id": "6b216fc5",
   "metadata": {},
   "source": [
    "# Lesson 13: Aggregations & Grouping (Axis Logic) + Mini-batching\n",
    "**Goal (~15 min):** Master axis semantics for sum/mean, and simulate simple group/batch ops used in ML."
   ]
  },
  {
   "cell_type": "markdown",
   "id": "4c59c650",
   "metadata": {},
   "source": [
    "## Setup"
   ]
  },
  {
   "cell_type": "code",
   "execution_count": null,
   "id": "6305a94e",
   "metadata": {},
   "outputs": [],
   "source": [
    "import numpy as np\n",
    "np.set_printoptions(precision=3, suppress=True)\n",
    "X = np.arange(1,13).reshape(3,4).astype(float)  # 3 samples × 4 features\n",
    "print(\"X:\\n\", X)"
   ]
  },
  {
   "cell_type": "markdown",
   "id": "4aa71e57",
   "metadata": {},
   "source": [
    "## Aggregations by Axis"
   ]
  },
  {
   "cell_type": "code",
   "execution_count": null,
   "id": "8a20dd0a",
   "metadata": {},
   "outputs": [],
   "source": [
    "print(\"sum over features (per sample):\", X.sum(axis=1))  # 3 values\n",
    "print(\"mean over samples (per feature):\", X.mean(axis=0))  # 4 values"
   ]
  },
  {
   "cell_type": "markdown",
   "id": "7f5af08e",
   "metadata": {},
   "source": [
    "## Batch Means (simulate mini-batches)"
   ]
  },
  {
   "cell_type": "code",
   "execution_count": null,
   "id": "700ffc9b",
   "metadata": {},
   "outputs": [],
   "source": [
    "def batch_iter(arr, batch_size):\n",
    "    for i in range(0, len(arr), batch_size):\n",
    "        yield arr[i:i+batch_size]\n",
    "\n",
    "for batch in batch_iter(X, 2):\n",
    "    print(\"batch:\\n\", batch, \" batch mean:\", batch.mean(axis=0))"
   ]
  },
  {
   "cell_type": "markdown",
   "id": "5ff68104",
   "metadata": {},
   "source": [
    "## Grouped Reductions with Labels (`np.bincount`, `np.add.at`)"
   ]
  },
  {
   "cell_type": "code",
   "execution_count": null,
   "id": "308655b9",
   "metadata": {},
   "outputs": [],
   "source": [
    "# Suppose each row belongs to a group label\n",
    "labels = np.array([0, 1, 0])  # 2 samples in group 0, 1 sample in group 1\n",
    "# Sum features per group using add.at\n",
    "group_sums = np.zeros((labels.max()+1, X.shape[1]))\n",
    "np.add.at(group_sums, labels, X)\n",
    "group_counts = np.bincount(labels)\n",
    "group_means = group_sums / group_counts[:, None]\n",
    "print(\"group_sums:\\n\", group_sums)\n",
    "print(\"group_means:\\n\", group_means)"
   ]
  },
  {
   "cell_type": "markdown",
   "id": "89e0908b",
   "metadata": {},
   "source": [
    "## Exercise\n",
    "1) Compute std per feature (axis=0) and per sample (axis=1).\n",
    "2) Given labels=[1,1,0], recompute group_means.\n",
    "3) Write a function grouped_mean(X, labels) that returns means for each group index 0..max(labels)."
   ]
  }
 ],
 "metadata": {},
 "nbformat": 4,
 "nbformat_minor": 5
}
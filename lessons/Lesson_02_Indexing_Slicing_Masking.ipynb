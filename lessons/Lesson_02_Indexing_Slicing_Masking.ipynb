{
 "cells": [
  {
   "cell_type": "markdown",
   "id": "b84c9c4b",
   "metadata": {},
   "source": [
    "# Lesson 2: Indexing, Slicing & Boolean Masking\n",
    "**Goal (~15 min):** Select rows/cols, slice subarrays, and filter with masks."
   ]
  },
  {
   "cell_type": "markdown",
   "id": "85d4df70",
   "metadata": {},
   "source": [
    "## Setup"
   ]
  },
  {
   "cell_type": "code",
   "execution_count": null,
   "id": "fca3e7ba",
   "metadata": {},
   "outputs": [],
   "source": [
    "import numpy as np\n",
    "np.set_printoptions(edgeitems=4, linewidth=120)"
   ]
  },
  {
   "cell_type": "markdown",
   "id": "b84ebb3c",
   "metadata": {},
   "source": [
    "## Data"
   ]
  },
  {
   "cell_type": "code",
   "execution_count": null,
   "id": "ed0fd736",
   "metadata": {},
   "outputs": [],
   "source": [
    "data = np.array([[25,50,72,2],\n",
    "                 [32,80,88,6],\n",
    "                 [41,120,55,15],\n",
    "                 [29,60,45,4],\n",
    "                 [36,90,95,8],\n",
    "                 [50,150,62,20]], dtype=float)\n",
    "header = [\"age\",\"income_k\",\"score\",\"years_experience\"]\n",
    "print(\"data:\\n\", data)"
   ]
  },
  {
   "cell_type": "markdown",
   "id": "9d3c3ad0",
   "metadata": {},
   "source": [
    "## Indexing & Slicing"
   ]
  },
  {
   "cell_type": "code",
   "execution_count": null,
   "id": "73b474a8",
   "metadata": {},
   "outputs": [],
   "source": [
    "print(\"row 0:\", data[0])\n",
    "print(\"col 2 (score):\", data[:,2])\n",
    "print(\"rows 1..3 & cols 1..2:\\n\", data[1:4, 1:3])"
   ]
  },
  {
   "cell_type": "markdown",
   "id": "d53ef7a5",
   "metadata": {},
   "source": [
    "## Boolean Masks"
   ]
  },
  {
   "cell_type": "code",
   "execution_count": null,
   "id": "78e68076",
   "metadata": {},
   "outputs": [],
   "source": [
    "mask_age = data[:,0] > 35\n",
    "print(\"age>35 mask:\", mask_age)\n",
    "print(\"rows age>35:\\n\", data[mask_age])"
   ]
  },
  {
   "cell_type": "markdown",
   "id": "ac12e336",
   "metadata": {},
   "source": [
    "## Exercise\n",
    "1) Rows with income ≥ 80 and credit rating? (add a 5th col to test)\n",
    "2) Set score=0 where age<30 (work on a copy)."
   ]
  }
 ],
 "metadata": {},
 "nbformat": 4,
 "nbformat_minor": 5
}
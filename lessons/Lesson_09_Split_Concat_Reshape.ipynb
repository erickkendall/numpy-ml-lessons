{
 "cells": [
  {
   "cell_type": "markdown",
   "id": "a68b4a49",
   "metadata": {},
   "source": [
    "# Lesson 9: Splitting, Concatenating & Reshaping\n",
    "**Goal (~15 min):** hsplit/vsplit, hstack/vstack, ravel/reshape."
   ]
  },
  {
   "cell_type": "markdown",
   "id": "66c0e26f",
   "metadata": {},
   "source": [
    "## Dataset"
   ]
  },
  {
   "cell_type": "code",
   "execution_count": null,
   "id": "1975ebf9",
   "metadata": {},
   "outputs": [],
   "source": [
    "import numpy as np; np.random.seed(0)\n",
    "data = np.random.randint(10,100,size=(8,6))\n",
    "print(\"shape:\", data.shape); print(data)"
   ]
  },
  {
   "cell_type": "markdown",
   "id": "fc840f14",
   "metadata": {},
   "source": [
    "## Split & Concatenate"
   ]
  },
  {
   "cell_type": "code",
   "execution_count": null,
   "id": "55bd6ae3",
   "metadata": {},
   "outputs": [],
   "source": [
    "left, right = np.hsplit(data, [3]); print(\"left:\\n\", left); print(\"\\nright:\\n\", right)\n",
    "top, bottom = np.vsplit(data, [4]); print(\"\\ntop:\\n\", top); print(\"\\nbottom:\\n\", bottom)\n",
    "new_col = np.arange(1,9).reshape(-1,1); with_col = np.hstack([data, new_col]); print(\"\\nwith col:\\n\", with_col)"
   ]
  },
  {
   "cell_type": "markdown",
   "id": "bee3d5e3",
   "metadata": {},
   "source": [
    "## Reshape & Flatten"
   ]
  },
  {
   "cell_type": "code",
   "execution_count": null,
   "id": "1a848a88",
   "metadata": {},
   "outputs": [],
   "source": [
    "flat = data.ravel(); print(\"flat length:\", flat.size)\n",
    "reshaped = data.reshape(4,-1); print(\"reshaped 4x?:\\n\", reshaped)"
   ]
  },
  {
   "cell_type": "markdown",
   "id": "0ef2f658",
   "metadata": {},
   "source": [
    "## Exercise\n",
    "Split features/target, make train/test by rows, create score*years_exp feature, and report shapes."
   ]
  }
 ],
 "metadata": {},
 "nbformat": 4,
 "nbformat_minor": 5
}
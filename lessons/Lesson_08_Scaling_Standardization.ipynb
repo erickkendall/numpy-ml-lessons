{
 "cells": [
  {
   "cell_type": "markdown",
   "id": "b08881a5",
   "metadata": {},
   "source": [
    "# Lesson 8: Scaling & Standardization (fit/transform)\n",
    "**Goal (~15 min):** Min–max and z-score scaling; fit on train, apply to test."
   ]
  },
  {
   "cell_type": "markdown",
   "id": "30888583",
   "metadata": {},
   "source": [
    "## Clean Formula (LaTeX)"
   ]
  },
  {
   "cell_type": "markdown",
   "id": "37461359",
   "metadata": {},
   "source": [
    "We will reference this baseline formula in later derivations:\n",
    "\n",
    "$$\n",
    "\\text{baseline\\_hours} = \\left\\lfloor \\frac{\\text{avg} - 70}{5} \\right\\rfloor\n",
    "$$\n"
   ]
  },
  {
   "cell_type": "markdown",
   "id": "5b7c4cc2",
   "metadata": {},
   "source": [
    "## Synthetic Data & Split"
   ]
  },
  {
   "cell_type": "code",
   "execution_count": null,
   "id": "e98df9a6",
   "metadata": {},
   "outputs": [],
   "source": [
    "import numpy as np\n",
    "np.random.seed(7)\n",
    "N = 14\n",
    "age = np.random.randint(22,61,size=N)\n",
    "income_k = np.random.randint(40,181,size=N)\n",
    "score = np.random.randint(40,101,size=N)\n",
    "years_experience = np.clip((age-22)//3 + np.random.randint(-1,3,size=N), 0, None)\n",
    "credit_rating = np.clip(500 + income_k*2 + (score-70)*4 + years_experience*3\n",
    "                        + np.random.randint(-60,61,size=N), 300, 850)\n",
    "X = np.column_stack([age,income_k,score,years_experience]).astype(float)\n",
    "y = credit_rating.astype(float)\n",
    "np.random.seed(42); n = X.shape[0]; tr = int(round(0.8*n))\n",
    "idx = np.random.choice(n, size=tr, replace=False); te = np.setdiff1d(np.arange(n), idx)\n",
    "X_train, X_test = X[idx], X[te]"
   ]
  },
  {
   "cell_type": "markdown",
   "id": "0fa864ca",
   "metadata": {},
   "source": [
    "## Fit/Transform Functions"
   ]
  },
  {
   "cell_type": "code",
   "execution_count": null,
   "id": "2544771d",
   "metadata": {},
   "outputs": [],
   "source": [
    "def fit_standardizer(X): m=X.mean(axis=0); s=X.std(axis=0); s[s==0]=1.0; return {\"mean\":m,\"std\":s}\n",
    "def transform_standardizer(X, st): return (X - st[\"mean\"]) / st[\"std\"]\n",
    "st = fit_standardizer(X_train)\n",
    "X_train_std = transform_standardizer(X_train, st)\n",
    "X_test_std  = transform_standardizer(X_test, st)\n",
    "print(\"Train means ≈ 0:\", X_train_std.mean(axis=0).round(3))\n",
    "print(\"Train stds  ≈ 1:\",  X_train_std.std(axis=0).round(3))"
   ]
  },
  {
   "cell_type": "markdown",
   "id": "65f438c9",
   "metadata": {},
   "source": [
    "## Exercise\n",
    "Implement robust scaling with median/IQR; count test rows with any |val|>2."
   ]
  }
 ],
 "metadata": {},
 "nbformat": 4,
 "nbformat_minor": 5
}
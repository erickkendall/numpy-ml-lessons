{
 "cells": [
  {
   "cell_type": "markdown",
   "id": "98488262",
   "metadata": {},
   "source": [
    "# Lesson 12: Broadcasting Deep Dive\n",
    "**Goal (~15 min):** Understand how NumPy aligns shapes to enable fast, vectorized math (scalars ↔ vectors ↔ matrices)."
   ]
  },
  {
   "cell_type": "markdown",
   "id": "761d2352",
   "metadata": {},
   "source": [
    "## Setup & Data"
   ]
  },
  {
   "cell_type": "code",
   "execution_count": null,
   "id": "04adcbc8",
   "metadata": {},
   "outputs": [],
   "source": [
    "import numpy as np\n",
    "np.set_printoptions(precision=3, suppress=True)\n",
    "A = np.arange(12).reshape(3,4).astype(float)  # 3 rows, 4 cols\n",
    "row_vec = np.array([10, 20, 30, 40], dtype=float)   # shape (4,)\n",
    "col_vec = np.array([[1.0],[2.0],[3.0]])             # shape (3,1)\n",
    "print(\"A:\\n\", A)"
   ]
  },
  {
   "cell_type": "markdown",
   "id": "1abb0765",
   "metadata": {},
   "source": [
    "## Shapes & Simple Broadcasting"
   ]
  },
  {
   "cell_type": "code",
   "execution_count": null,
   "id": "e363dc08",
   "metadata": {},
   "outputs": [],
   "source": [
    "print(\"A shape:\", A.shape)\n",
    "print(\"row_vec shape:\", row_vec.shape)\n",
    "print(\"A + row_vec:\\n\", A + row_vec)   # add per-column\n",
    "print(\"\\ncol_vec shape:\", col_vec.shape)\n",
    "print(\"A * col_vec:\\n\", A * col_vec)   # scale per-row\n"
   ]
  },
  {
   "cell_type": "markdown",
   "id": "997a7cb7",
   "metadata": {},
   "source": [
    "## Expanding Dimensions with `None`/`np.newaxis`"
   ]
  },
  {
   "cell_type": "code",
   "execution_count": null,
   "id": "bc0bf5f9",
   "metadata": {},
   "outputs": [],
   "source": [
    "x = np.array([1,2,3])     # (3,)\n",
    "y = np.array([4,5])       # (2,)\n",
    "# Outer sum via broadcasting by adding axes\n",
    "outer_sum = x[:, None] + y[None, :]\n",
    "print(\"outer_sum shape:\", outer_sum.shape)\n",
    "print(outer_sum)"
   ]
  },
  {
   "cell_type": "markdown",
   "id": "b0bab617",
   "metadata": {},
   "source": [
    "## Center Each Column (subtract column means via broadcasting)"
   ]
  },
  {
   "cell_type": "code",
   "execution_count": null,
   "id": "db1f83c4",
   "metadata": {},
   "outputs": [],
   "source": [
    "col_means = A.mean(axis=0)        # shape (4,)\n",
    "A_centered = A - col_means        # broadcast subtract\n",
    "print(\"col_means:\", col_means)\n",
    "print(\"A_centered first row:\", A_centered[0])"
   ]
  },
  {
   "cell_type": "markdown",
   "id": "7cae3719",
   "metadata": {},
   "source": [
    "## Add Bias (intercept) Column via Broadcasting"
   ]
  },
  {
   "cell_type": "code",
   "execution_count": null,
   "id": "dc3a22c4",
   "metadata": {},
   "outputs": [],
   "source": [
    "ones = np.ones((A.shape[0],1))\n",
    "A_with_bias = np.hstack([ones, A])\n",
    "print(\"A_with_bias shape:\", A_with_bias.shape)"
   ]
  },
  {
   "cell_type": "markdown",
   "id": "18568cd3",
   "metadata": {},
   "source": [
    "## Exercise\n",
    "1) Given B = np.arange(6).reshape(2,3), add [100,200,300] to B by broadcasting.\n",
    "2) Multiply B by column vector [[1],[10]] to scale rows.\n",
    "3) Compute Z = (A - A.mean(axis=1, keepdims=True)) / A.std(axis=1, keepdims=True) (row-standardize)."
   ]
  }
 ],
 "metadata": {},
 "nbformat": 4,
 "nbformat_minor": 5
}
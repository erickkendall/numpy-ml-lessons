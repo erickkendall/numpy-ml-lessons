{
 "cells": [
  {
   "cell_type": "markdown",
   "id": "3c5a3cb8",
   "metadata": {},
   "source": [
    "\n",
    "# Lesson 8 (Mini): Scaling, Clipping, and Composite Scores — Student Grades\n",
    "\n",
    "**Goal (~15 minutes):** Practice NumPy fundamentals for ML-style preprocessing using a friendly dataset (Joe, Ted, Sue).  \n",
    "You’ll compute per-student averages, derive a **study_hours** feature using a formula + noise, and build a **final_score** with clipping.\n",
    "\n",
    "---\n"
   ]
  },
  {
   "cell_type": "markdown",
   "id": "f290d649",
   "metadata": {},
   "source": [
    "## 1) Setup — Students & Grades"
   ]
  },
  {
   "cell_type": "code",
   "execution_count": null,
   "id": "bf6a1866",
   "metadata": {},
   "outputs": [],
   "source": [
    "\n",
    "import numpy as np\n",
    "\n",
    "# Students and their 4 test grades\n",
    "students = np.array([\"Joe\",\"Ted\",\"Sue\"])\n",
    "grades = np.array([\n",
    "    [85, 92, 78, 90],  # Joe\n",
    "    [88, 76, 85, 83],  # Ted\n",
    "    [90, 95, 92, 88]   # Sue\n",
    "], dtype=float)\n",
    "\n",
    "print(\"Students:\", students.tolist())\n",
    "print(\"Grades matrix:\\n\", grades)\n",
    "print(\"Shape:\", grades.shape)  # (3 students, 4 tests)\n"
   ]
  },
  {
   "cell_type": "markdown",
   "id": "bdc3a9c2",
   "metadata": {},
   "source": [
    "\n",
    "## 2) Average Grade Per Student (axis=1)\n",
    "\n",
    "- `axis=1` means \"go **across** each row\" (per student).\n",
    "- This gives us the baseline academic performance for each student.\n"
   ]
  },
  {
   "cell_type": "code",
   "execution_count": null,
   "id": "408f674a",
   "metadata": {},
   "outputs": [],
   "source": [
    "\n",
    "avg = grades.mean(axis=1)\n",
    "for name, a in zip(students, avg):\n",
    "    print(f\"{name}'s average grade: {a:.2f}\")\n"
   ]
  },
  {
   "cell_type": "markdown",
   "id": "e1be8730",
   "metadata": {},
   "source": [
    "\n",
    "## 3) Derive `study_hours` with Formula + Jitter + `np.clip`\n",
    "\n",
    "We mimic a feature like `years_experience`:\n",
    "\n",
    "\\[\n",
    "\\text{baseline\\_hours} = \\left\\lfloor \\frac{\\text{avg} - 70}{5} \\right\\rfloor\n",
    "\\]\n",
    "\n",
    "Then add small random jitter in \\{-1, 0, +1\\}, and **clip** at 0 so it never goes negative:\n"
   ]
  },
  {
   "cell_type": "code",
   "execution_count": null,
   "id": "77d10b8a",
   "metadata": {},
   "outputs": [],
   "source": [
    "\n",
    "# Optional: fix randomness for reproducibility while you learn\n",
    "np.random.seed(42)\n",
    "\n",
    "baseline_hours = np.floor((avg - 70) / 5)\n",
    "\n",
    "# Jitter: integers in [-1, 1]\n",
    "jitter = np.random.randint(-1, 2, size=avg.shape)\n",
    "\n",
    "study_hours_unclipped = baseline_hours + jitter\n",
    "study_hours = np.clip(study_hours_unclipped, 0, None)  # minimum 0\n",
    "\n",
    "print(\"Averages:          \", np.round(avg, 2))\n",
    "print(\"Baseline hours:    \", baseline_hours.astype(int))\n",
    "print(\"Jitter (-1..+1):   \", jitter)\n",
    "print(\"Unclipped hours:   \", study_hours_unclipped)\n",
    "print(\"Clipped study_hours\", study_hours)\n"
   ]
  },
  {
   "cell_type": "markdown",
   "id": "768357a4",
   "metadata": {},
   "source": [
    "\n",
    "**Why `np.clip`?**  \n",
    "- `np.clip(x, 0, None)` enforces a **lower bound** of 0 (no negatives).\n",
    "- `None` for the upper bound means \"no maximum\".\n"
   ]
  },
  {
   "cell_type": "markdown",
   "id": "08d6ad6c",
   "metadata": {},
   "source": [
    "\n",
    "## 4) Composite `final_score` (Analogous to `credit_rating`)\n",
    "\n",
    "We combine multiple parts:\n",
    "- Base = 50  \n",
    "- Weighted average grade: `0.4 * avg`  \n",
    "- Attendance (0–10): stronger attendance helps: `0.8 * attendance`  \n",
    "- Study hours: `2 * study_hours`  \n",
    "- Random noise in `[-3, +3]`  \n",
    "Finally, **clip** to the valid range `[0, 100]`.\n"
   ]
  },
  {
   "cell_type": "code",
   "execution_count": null,
   "id": "ffdbfde1",
   "metadata": {},
   "outputs": [],
   "source": [
    "\n",
    "# Deterministic attendance for the demo (you can change these)\n",
    "attendance = np.array([8, 7, 9], dtype=float)\n",
    "\n",
    "# Noise in [-3, 3]\n",
    "noise = np.random.randint(-3, 4, size=avg.shape).astype(float)\n",
    "\n",
    "final_score_raw = 50 + 0.4*avg + 0.8*attendance + 2*study_hours + noise\n",
    "final_score = np.clip(final_score_raw, 0, 100)\n",
    "\n",
    "for i, name in enumerate(students):\n",
    "    print(f\"{name:>3} | avg={avg[i]:5.2f} | study_hours={int(study_hours[i])} | \"\n",
    "          f\"att={attendance[i]:.0f} | noise={int(noise[i]):+} | raw={final_score_raw[i]:6.2f} | final={final_score[i]:6.2f}\")\n"
   ]
  },
  {
   "cell_type": "markdown",
   "id": "09ef12cb",
   "metadata": {},
   "source": [
    "\n",
    "## 5) (Optional) Simple Visualization\n",
    "\n",
    "A quick look at `final_score` as a sanity check.\n"
   ]
  },
  {
   "cell_type": "code",
   "execution_count": null,
   "id": "ae4648ad",
   "metadata": {},
   "outputs": [],
   "source": [
    "\n",
    "import matplotlib.pyplot as plt\n",
    "\n",
    "plt.figure()\n",
    "plt.bar(students, final_score)\n",
    "plt.title(\"Final Score (Clipped to [0, 100])\")\n",
    "plt.xlabel(\"Student\")\n",
    "plt.ylabel(\"Final Score\")\n",
    "plt.show()\n"
   ]
  },
  {
   "cell_type": "markdown",
   "id": "a5605a2c",
   "metadata": {},
   "source": [
    "\n",
    "## 6) Exercises (≈5 minutes)\n",
    "\n",
    "1. Change `jitter` to always be `[-2, -2, -2]`. Does `np.clip` keep `study_hours` from going negative?  \n",
    "2. Increase the weight on attendance from `0.8` to `1.5`. Who benefits most? Why?  \n",
    "3. Set `noise = 0` for everyone. What happens to `final_score_raw` vs `final_score`?  \n",
    "4. Change Joe’s first grade to 20 (a low outlier) and re-run cells. How do `avg`, `study_hours`, and `final_score` change?  \n",
    "5. Try an **upper bound** clip on `study_hours` (e.g., `np.clip(..., 0, 8)`) to limit max hours. What changes?\n"
   ]
  },
  {
   "cell_type": "markdown",
   "id": "40faf318",
   "metadata": {},
   "source": [
    "\n",
    "## Appendix — Handy One-Liners\n",
    "\n",
    "- Per-student averages: `avg = grades.mean(axis=1)`  \n",
    "- Lower-bound clip: `np.clip(x, 0, None)`  \n",
    "- Two-sided clip: `np.clip(x, 0, 100)`  \n",
    "- Reproducible randomness: `np.random.seed(42)`  \n",
    "- Vectorized arithmetic: works elementwise on NumPy arrays.\n"
   ]
  }
 ],
 "metadata": {},
 "nbformat": 4,
 "nbformat_minor": 5
}
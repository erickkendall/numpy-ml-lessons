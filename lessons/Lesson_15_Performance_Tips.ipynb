{
 "cells": [
  {
   "cell_type": "markdown",
   "id": "d9ed9f6d",
   "metadata": {},
   "source": [
    "# Lesson 15: Performance Tips — Vectorization & Memory\n",
    "**Goal (~15 min):** Prefer vectorized NumPy over Python loops; use boolean ops and dtypes wisely."
   ]
  },
  {
   "cell_type": "markdown",
   "id": "9e8f5f0c",
   "metadata": {},
   "source": [
    "## Setup"
   ]
  },
  {
   "cell_type": "code",
   "execution_count": null,
   "id": "187b05c7",
   "metadata": {},
   "outputs": [],
   "source": [
    "import numpy as np, time\n",
    "N = 1_000_00  # 100k\n",
    "x = np.random.rand(N)\n",
    "y = np.random.rand(N)"
   ]
  },
  {
   "cell_type": "markdown",
   "id": "3ed9bac0",
   "metadata": {},
   "source": [
    "## Python Loop vs Vectorized"
   ]
  },
  {
   "cell_type": "code",
   "execution_count": null,
   "id": "617767c3",
   "metadata": {},
   "outputs": [],
   "source": [
    "# Loop\n",
    "t0 = time.time()\n",
    "s = 0.0\n",
    "for i in range(N):\n",
    "    s += x[i]*y[i]\n",
    "t1 = time.time()\n",
    "loop_time = t1 - t0\n",
    "\n",
    "# Vectorized\n",
    "t0 = time.time()\n",
    "s_vec = np.dot(x, y)\n",
    "t1 = time.time()\n",
    "vec_time = t1 - t0\n",
    "\n",
    "print(f\"loop dot={s:.4f} in {loop_time:.4f}s; vectorized dot={s_vec:.4f} in {vec_time:.6f}s\")"
   ]
  },
  {
   "cell_type": "markdown",
   "id": "894dcad4",
   "metadata": {},
   "source": [
    "## Conditional Update: np.where vs Boolean Mask"
   ]
  },
  {
   "cell_type": "code",
   "execution_count": null,
   "id": "c0e0e2b1",
   "metadata": {},
   "outputs": [],
   "source": [
    "arr = np.random.randint(0, 100, size=12).astype(float)\n",
    "arr_where = np.where(arr > 50, arr, 0)     # values <=50 -> 0\n",
    "arr_mask = arr.copy(); arr_mask[arr_mask <= 50] = 0\n",
    "print(\"arr:\", arr)\n",
    "print(\"where:\", arr_where)\n",
    "print(\"mask :\", arr_mask)"
   ]
  },
  {
   "cell_type": "markdown",
   "id": "d9e6ed0e",
   "metadata": {},
   "source": [
    "## Dtypes & Casting"
   ]
  },
  {
   "cell_type": "code",
   "execution_count": null,
   "id": "827c3857",
   "metadata": {},
   "outputs": [],
   "source": [
    "int_arr = np.arange(6, dtype=np.int16)\n",
    "float_arr = int_arr.astype(np.float32)\n",
    "print(int_arr.dtype, float_arr.dtype)"
   ]
  },
  {
   "cell_type": "markdown",
   "id": "8d784402",
   "metadata": {},
   "source": [
    "## Exercise\n",
    "1) Time a loop vs vectorized (square then sum) for N=200k.\n",
    "2) Use np.where to cap values at 90 (else keep original).\n",
    "3) Convert a float array to int32 and observe rounding/truncation."
   ]
  }
 ],
 "metadata": {},
 "nbformat": 4,
 "nbformat_minor": 5
}